{
 "cells": [
  {
   "cell_type": "code",
   "execution_count": 2,
   "id": "377e32a2",
   "metadata": {},
   "outputs": [],
   "source": [
    "from pptx import Presentation\n",
    "\n",
    "template = Presentation(\"/home/sebas_dev_linux/projects/course_generator/data/slide_style/slide_style_test.pptx\")\n",
    "prs = Presentation()\n",
    "blank = prs.slide_layouts[6]   # blank layout\n",
    "\n",
    "new_slide = prs.slides.add_slide(blank)\n",
    "timeline_slide = template.slides[0]\n",
    "for shp in timeline_slide.shapes:\n",
    "    new_slide.shapes._spTree.insert_element_before(shp._element, 'p:extLst')\n",
    "\n",
    "# Now you can access node text frames:\n",
    "for shape in new_slide.shapes:\n",
    "    if shape.has_text_frame:\n",
    "        shape.text_frame.text = \"Updated content\"\n",
    "\n",
    "prs.save(\"timeline_pythonpptx.pptx\")\n"
   ]
  }
 ],
 "metadata": {
  "kernelspec": {
   "display_name": "tensor2",
   "language": "python",
   "name": "python3"
  },
  "language_info": {
   "codemirror_mode": {
    "name": "ipython",
    "version": 3
   },
   "file_extension": ".py",
   "mimetype": "text/x-python",
   "name": "python",
   "nbconvert_exporter": "python",
   "pygments_lexer": "ipython3",
   "version": "3.10.16"
  }
 },
 "nbformat": 4,
 "nbformat_minor": 5
}
